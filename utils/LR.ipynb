{
 "cells": [
  {
   "cell_type": "code",
   "execution_count": 7,
   "id": "f80272d1-a158-4f7e-ad6a-b20e1d630732",
   "metadata": {},
   "outputs": [],
   "source": [
    "import pandas as pd\n",
    "import numpy as np\n",
    "import csv\n",
    "\n",
    "from sklearn.model_selection import train_test_split\n",
    "from sklearn.linear_model import LogisticRegression\n",
    "from sklearn.pipeline import Pipeline\n",
    "from sklearn.feature_extraction.text import TfidfVectorizer\n",
    "from sklearn.metrics import classification_report\n",
    "from sklearn.cluster import KMeans \n",
    "\n",
    "import matplotlib.pyplot as plt "
   ]
  },
  {
   "cell_type": "code",
   "execution_count": 9,
   "id": "3dbe3dd5-3cea-4ea7-bad0-383c719f2221",
   "metadata": {},
   "outputs": [],
   "source": [
    "df = pd.read_csv(r\"C:\\Users\\chiam\\Projects\\WINpass-7-05\\captions.csv\")"
   ]
  },
  {
   "cell_type": "code",
   "execution_count": 11,
   "id": "b3ad3140-8161-45c6-b1e6-7b9ab7f5ff23",
   "metadata": {},
   "outputs": [
    {
     "data": {
      "text/html": [
       "<div>\n",
       "<style scoped>\n",
       "    .dataframe tbody tr th:only-of-type {\n",
       "        vertical-align: middle;\n",
       "    }\n",
       "\n",
       "    .dataframe tbody tr th {\n",
       "        vertical-align: top;\n",
       "    }\n",
       "\n",
       "    .dataframe thead th {\n",
       "        text-align: right;\n",
       "    }\n",
       "</style>\n",
       "<table border=\"1\" class=\"dataframe\">\n",
       "  <thead>\n",
       "    <tr style=\"text-align: right;\">\n",
       "      <th></th>\n",
       "      <th>caption</th>\n",
       "      <th>is_event</th>\n",
       "    </tr>\n",
       "  </thead>\n",
       "  <tbody>\n",
       "    <tr>\n",
       "      <th>0</th>\n",
       "      <td>Catch the box before it hits you! 📦 Let’s come...</td>\n",
       "      <td>1</td>\n",
       "    </tr>\n",
       "    <tr>\n",
       "      <th>1</th>\n",
       "      <td>Calling the FAC All Stars 🌟  Join us, Communic...</td>\n",
       "      <td>0</td>\n",
       "    </tr>\n",
       "    <tr>\n",
       "      <th>2</th>\n",
       "      <td>We are calling for YOU to come and join us thi...</td>\n",
       "      <td>0</td>\n",
       "    </tr>\n",
       "    <tr>\n",
       "      <th>3</th>\n",
       "      <td>Calling all Future Stars 🌟 (and supportive par...</td>\n",
       "      <td>0</td>\n",
       "    </tr>\n",
       "    <tr>\n",
       "      <th>4</th>\n",
       "      <td>✨ 𝐎𝐧𝐜𝐞 𝐔𝐩𝐨𝐧 𝐀 𝐒𝐭𝐚𝐠𝐞: 𝐖𝐡𝐞𝐫𝐞 𝐃𝐫𝐞𝐚𝐦𝐬 𝐂𝐨𝐦𝐞 𝐓𝐫𝐮𝐞 ✨\\...</td>\n",
       "      <td>1</td>\n",
       "    </tr>\n",
       "  </tbody>\n",
       "</table>\n",
       "</div>"
      ],
      "text/plain": [
       "                                             caption  is_event\n",
       "0  Catch the box before it hits you! 📦 Let’s come...         1\n",
       "1  Calling the FAC All Stars 🌟  Join us, Communic...         0\n",
       "2  We are calling for YOU to come and join us thi...         0\n",
       "3  Calling all Future Stars 🌟 (and supportive par...         0\n",
       "4  ✨ 𝐎𝐧𝐜𝐞 𝐔𝐩𝐨𝐧 𝐀 𝐒𝐭𝐚𝐠𝐞: 𝐖𝐡𝐞𝐫𝐞 𝐃𝐫𝐞𝐚𝐦𝐬 𝐂𝐨𝐦𝐞 𝐓𝐫𝐮𝐞 ✨\\...         1"
      ]
     },
     "execution_count": 11,
     "metadata": {},
     "output_type": "execute_result"
    }
   ],
   "source": [
    "df.head()"
   ]
  },
  {
   "cell_type": "code",
   "execution_count": 13,
   "id": "133135e2-8b0d-48cf-94e6-b19a46b4a3ed",
   "metadata": {},
   "outputs": [
    {
     "data": {
      "text/html": [
       "<div>\n",
       "<style scoped>\n",
       "    .dataframe tbody tr th:only-of-type {\n",
       "        vertical-align: middle;\n",
       "    }\n",
       "\n",
       "    .dataframe tbody tr th {\n",
       "        vertical-align: top;\n",
       "    }\n",
       "\n",
       "    .dataframe thead th {\n",
       "        text-align: right;\n",
       "    }\n",
       "</style>\n",
       "<table border=\"1\" class=\"dataframe\">\n",
       "  <thead>\n",
       "    <tr style=\"text-align: right;\">\n",
       "      <th></th>\n",
       "      <th>caption</th>\n",
       "      <th>is_event</th>\n",
       "    </tr>\n",
       "  </thead>\n",
       "  <tbody>\n",
       "    <tr>\n",
       "      <th>293</th>\n",
       "      <td>BREAKING NEWS 📰 ! MMU CAREER FAIR '22 NOW OPEN...</td>\n",
       "      <td>1</td>\n",
       "    </tr>\n",
       "    <tr>\n",
       "      <th>294</th>\n",
       "      <td>もしもし! (^ヮ^)ノ\\n\\nDon't forget that Sakura Fest'...</td>\n",
       "      <td>1</td>\n",
       "    </tr>\n",
       "    <tr>\n",
       "      <th>295</th>\n",
       "      <td>🎌 Dive into the enchanting world of Japanese t...</td>\n",
       "      <td>1</td>\n",
       "    </tr>\n",
       "    <tr>\n",
       "      <th>296</th>\n",
       "      <td>こんにちは、皆さん！\\n\\nWe would like to happily announc...</td>\n",
       "      <td>1</td>\n",
       "    </tr>\n",
       "    <tr>\n",
       "      <th>297</th>\n",
       "      <td>🌸Attention Movie Night attendees!🌸\\n\\nWe're un...</td>\n",
       "      <td>1</td>\n",
       "    </tr>\n",
       "  </tbody>\n",
       "</table>\n",
       "</div>"
      ],
      "text/plain": [
       "                                               caption  is_event\n",
       "293  BREAKING NEWS 📰 ! MMU CAREER FAIR '22 NOW OPEN...         1\n",
       "294  もしもし! (^ヮ^)ノ\\n\\nDon't forget that Sakura Fest'...         1\n",
       "295  🎌 Dive into the enchanting world of Japanese t...         1\n",
       "296  こんにちは、皆さん！\\n\\nWe would like to happily announc...         1\n",
       "297  🌸Attention Movie Night attendees!🌸\\n\\nWe're un...         1"
      ]
     },
     "execution_count": 13,
     "metadata": {},
     "output_type": "execute_result"
    }
   ],
   "source": [
    "df.tail()"
   ]
  },
  {
   "cell_type": "code",
   "execution_count": 15,
   "id": "bf82f680-03f0-4f87-b786-8d294bc7326a",
   "metadata": {},
   "outputs": [
    {
     "name": "stdout",
     "output_type": "stream",
     "text": [
      "<class 'pandas.core.frame.DataFrame'>\n",
      "RangeIndex: 298 entries, 0 to 297\n",
      "Data columns (total 2 columns):\n",
      " #   Column    Non-Null Count  Dtype \n",
      "---  ------    --------------  ----- \n",
      " 0   caption   298 non-null    object\n",
      " 1   is_event  298 non-null    int64 \n",
      "dtypes: int64(1), object(1)\n",
      "memory usage: 4.8+ KB\n"
     ]
    }
   ],
   "source": [
    "df.info()"
   ]
  },
  {
   "cell_type": "code",
   "execution_count": 16,
   "id": "e4c48ac0-22e0-42bf-afe4-cd32cecf9109",
   "metadata": {},
   "outputs": [
    {
     "data": {
      "text/plain": [
       "(298, 2)"
      ]
     },
     "execution_count": 16,
     "metadata": {},
     "output_type": "execute_result"
    }
   ],
   "source": [
    "df.shape"
   ]
  },
  {
   "cell_type": "code",
   "execution_count": 17,
   "id": "0b542efb-0cf7-48cd-84a1-bbb0f1537047",
   "metadata": {},
   "outputs": [],
   "source": [
    "X = df[\"caption\"].values\n",
    "y = df[\"is_event\"].values\n",
    "\n",
    "X_train, X_test, y_train, y_test = train_test_split(X,y,test_size=0.40, random_state=1)"
   ]
  },
  {
   "cell_type": "code",
   "execution_count": 18,
   "id": "c8261ab5-d384-42f6-82a9-71b272c0fb58",
   "metadata": {},
   "outputs": [],
   "source": [
    "model = Pipeline(steps=[\n",
    "    ('tfidf', TfidfVectorizer()),               \n",
    "    ('clf', LogisticRegression(max_iter=1000))  \n",
    "])"
   ]
  },
  {
   "cell_type": "code",
   "execution_count": 19,
   "id": "d66a4aa1-f428-4353-9841-fd31eeb63f5a",
   "metadata": {},
   "outputs": [
    {
     "name": "stdout",
     "output_type": "stream",
     "text": [
      "              precision    recall  f1-score   support\n",
      "\n",
      "           0       0.79      0.90      0.84        69\n",
      "           1       0.83      0.69      0.75        51\n",
      "\n",
      "    accuracy                           0.81       120\n",
      "   macro avg       0.81      0.79      0.80       120\n",
      "weighted avg       0.81      0.81      0.80       120\n",
      "\n"
     ]
    }
   ],
   "source": [
    "model.fit(X_train, y_train)\n",
    "y_pred_test = model.predict(X_test)\n",
    "\n",
    "print(classification_report(y_test, y_pred_test))"
   ]
  },
  {
   "cell_type": "code",
   "execution_count": 20,
   "id": "0b1a7605-ff3f-40c6-be84-aebfa2f60f0e",
   "metadata": {},
   "outputs": [
    {
     "name": "stdout",
     "output_type": "stream",
     "text": [
      "                                               caption  is_event  Predicted\n",
      "0    🌿|OARS Committee Line-Up 25/26|🌿\\n\\n#PowerTo T...         0          0\n",
      "1    🔥 New Diamond Sponsor: Public Bank🔥\\n\\n🌟 BIG N...         1          0\n",
      "2    🚀 Calling all sponsors for Build with AI UPM 2...         0          1\n",
      "3    ⚡🏸IU Badminton 🏸 ⚡\\n\\nAssalamualaikum and gree...         1          1\n",
      "4    🏅🏆 Selangor Indoor Rowing Championship 2024 🏆🏅...         0          0\n",
      "..                                                 ...       ...        ...\n",
      "115  🔥 Attention Gamers! 🔥\\n\\nWe're back for an epi...         1          1\n",
      "116  This time, MMUCS is bringing you a whole new l...         1          1\n",
      "117  [ GEMA GEMILANG: MMU SUKAN RAKYAT ]\\n\\nGet rea...         1          1\n",
      "118  Ready to grow your skills and make an impact?\\...         0          0\n",
      "119  🏮🐉 Happy Chinese New Year 2025! 🎉\\n\\nWishing y...         0          0\n",
      "\n",
      "[120 rows x 3 columns]\n"
     ]
    }
   ],
   "source": [
    "results_df = pd.DataFrame({\n",
    "    'caption': X_test,  \n",
    "    'is_event': y_test,\n",
    "    'Predicted': y_pred_test\n",
    "})\n",
    "\n",
    "print(results_df)\n",
    "\n",
    "results_df.to_csv(r\"C:\\Users\\chiam\\Projects\\WINpass-7-05\\test_results.csv\", index=False, encoding=\"utf-8-sig\")"
   ]
  },
  {
   "cell_type": "code",
   "execution_count": null,
   "id": "8cf74964-1663-4099-b3fe-06dcec73351c",
   "metadata": {},
   "outputs": [],
   "source": [
    "result_df = pd.read_csv(r\"C:\\Users\\chiam\\Projects\\WINpass-7-05\\test_results.csv\")\n",
    "\n"
   ]
  }
 ],
 "metadata": {
  "kernelspec": {
   "display_name": "Python 3 (ipykernel)",
   "language": "python",
   "name": "python3"
  },
  "language_info": {
   "codemirror_mode": {
    "name": "ipython",
    "version": 3
   },
   "file_extension": ".py",
   "mimetype": "text/x-python",
   "name": "python",
   "nbconvert_exporter": "python",
   "pygments_lexer": "ipython3",
   "version": "3.11.0"
  }
 },
 "nbformat": 4,
 "nbformat_minor": 5
}
